{
 "cells": [
  {
   "cell_type": "markdown",
   "metadata": {},
   "source": [
    "Importing Libraries:"
   ]
  },
  {
   "cell_type": "code",
   "execution_count": 417,
   "metadata": {},
   "outputs": [],
   "source": [
    "import os\n",
    "import numpy as np\n",
    "import cv2\n",
    "import matplotlib.pyplot as plt\n",
    "from sklearn.linear_model import LogisticRegression\n",
    "from sklearn.utils import shuffle\n",
    "from sklearn.metrics import accuracy_score, classification_report"
   ]
  },
  {
   "cell_type": "markdown",
   "metadata": {},
   "source": [
    "Functions:"
   ]
  },
  {
   "cell_type": "code",
   "execution_count": 418,
   "metadata": {},
   "outputs": [],
   "source": [
    "def prepare_sampled_pixel_data(image, mask, sample_size=3000):\n",
    "   \n",
    "    # flatten image and mask\n",
    "    h, w, c = image.shape\n",
    "    X = image.reshape((h * w, c))  # rgb features\n",
    "    y = mask.flatten()  # mask labels\n",
    "\n",
    "    # ensures sample size does not exceed available data (an issue I encountered A LOT)\n",
    "    sample_size = min(sample_size, len(y))\n",
    "    indices = np.random.choice(len(y), size=sample_size, replace=False)\n",
    "    return X[indices], y[indices]\n",
    "\n",
    "def resize_mask(mask, image_shape):\n",
    "  \n",
    "    # resizes images to make sure it matches (fixed an issue I encountered A LOT)\n",
    "    return cv2.resize(mask, (image_shape[1], image_shape[0]), interpolation=cv2.INTER_NEAREST)\n",
    "\n",
    "def denoise_mask(mask):\n",
    "    \n",
    "    # denoises the mask so that we can keep our data normalized\n",
    "    denoised = (mask > 127).astype(np.uint8)\n",
    "    return denoised\n",
    "\n",
    "# turned grayscale initially but lead to much lower accuracy, so turned it false\n",
    "def load_images(paths, grayscale=False):\n",
    "\n",
    "    # loads images from given paths\n",
    "    images = []\n",
    "    for path in paths:\n",
    "        if not os.path.exists(path):\n",
    "            print(f\"Warning: File not found: {path}\")\n",
    "            continue\n",
    "        img = cv2.imread(path, cv2.IMREAD_GRAYSCALE if grayscale else cv2.IMREAD_COLOR)\n",
    "        if img is None:\n",
    "            print(f\"Warning: Failed to load image: {path}\")\n",
    "            continue\n",
    "        images.append(img)\n",
    "    if not images:\n",
    "        raise FileNotFoundError(\"No valid images were loaded. Check file paths.\")\n",
    "    return images"
   ]
  },
  {
   "cell_type": "markdown",
   "metadata": {},
   "source": [
    "Load Data:"
   ]
  },
  {
   "cell_type": "code",
   "execution_count": 419,
   "metadata": {},
   "outputs": [],
   "source": [
    "# file Paths\n",
    "train_image_paths = [\"img1.png\", \"img2.png\"]\n",
    "train_mask_paths = [\"mask1.png\", \"mask2.png\"]\n",
    "test_image_paths = [\"unseen_img1.png\", \"unseen_img2.png\"]\n",
    "test_mask_paths = [\"masked_img1.png\", \"masked_img2.png\"]\n",
    "\n",
    "# load and preprocess training data (resize and denoise)\n",
    "train_images = load_images(train_image_paths)\n",
    "train_masks = load_images(train_mask_paths, grayscale=True)\n",
    "train_masks = [denoise_mask(resize_mask(msk, img.shape)) for img, msk in zip(train_images, train_masks)]"
   ]
  },
  {
   "cell_type": "markdown",
   "metadata": {},
   "source": [
    "Prepare Data:"
   ]
  },
  {
   "cell_type": "code",
   "execution_count": 420,
   "metadata": {},
   "outputs": [],
   "source": [
    "X_train, y_train = [], []\n",
    "for img, msk in zip(train_images, train_masks):\n",
    "    X, y = prepare_sampled_pixel_data(img, msk, sample_size=1500)\n",
    "    X_train.append(X)\n",
    "    y_train.append(y)\n",
    "\n",
    "X_train = np.vstack(X_train) if X_train else np.empty((0, 4))  # Adjust for RGB + Texture\n",
    "y_train = np.hstack(y_train) if y_train else np.empty((0,))\n",
    "if X_train.size > 0 and y_train.size > 0:\n",
    "    X_train, y_train = shuffle(X_train, y_train, random_state=42)"
   ]
  },
  {
   "cell_type": "markdown",
   "metadata": {},
   "source": [
    "Train Model:"
   ]
  },
  {
   "cell_type": "code",
   "execution_count": 421,
   "metadata": {},
   "outputs": [
    {
     "name": "stdout",
     "output_type": "stream",
     "text": [
      "Model training complete.\n"
     ]
    },
    {
     "name": "stderr",
     "output_type": "stream",
     "text": [
      "libpng warning: iCCP: known incorrect sRGB profile\n"
     ]
    }
   ],
   "source": [
    "# Train the model\n",
    "if X_train.size > 0 and y_train.size > 0:\n",
    "    model = LogisticRegression(class_weight=\"balanced\", max_iter=200)\n",
    "    model.fit(X_train, y_train)\n",
    "    print(\"Completed training\")\n",
    "\n",
    "# load and preprocess testing data\n",
    "test_images = load_images(test_image_paths)\n",
    "test_masks = load_images(test_mask_paths, grayscale=True)\n",
    "test_masks = [denoise_mask(resize_mask(msk, img.shape)) for img, msk in zip(test_images, test_masks)]\n",
    "\n",
    "# prepares and uses test set\n",
    "X_test, y_test = [], []\n",
    "for img, msk in zip(test_images, test_masks):\n",
    "    X, y = prepare_sampled_pixel_data(img, msk, sample_size=1500)\n",
    "    X_test.append(X)\n",
    "    y_test.append(y)\n"
   ]
  },
  {
   "cell_type": "markdown",
   "metadata": {},
   "source": [
    "Model Evaluation:"
   ]
  },
  {
   "cell_type": "code",
   "execution_count": 422,
   "metadata": {},
   "outputs": [
    {
     "name": "stdout",
     "output_type": "stream",
     "text": [
      "Accuracy on test set:  0.72\n",
      "Classification report:\n",
      "              precision    recall  f1-score   support\n",
      "\n",
      "           0       0.82      0.84      0.83      2439\n",
      "           1       0.23      0.21      0.22       561\n",
      "\n",
      "    accuracy                           0.72      3000\n",
      "   macro avg       0.53      0.53      0.53      3000\n",
      "weighted avg       0.71      0.72      0.72      3000\n",
      "\n"
     ]
    }
   ],
   "source": [
    "X_test = np.vstack(X_test)\n",
    "y_test = np.hstack(y_test)\n",
    "\n",
    "# model evaluation\n",
    "y_pred = model.predict(X_test)\n",
    "accuracy = accuracy_score(y_test, y_pred)\n",
    "print(f\"Accuracy on test set: {accuracy: .2f}\")\n",
    "print(\"Classification report:\")\n",
    "print(classification_report(y_test, y_pred))\n"
   ]
  }
 ],
 "metadata": {
  "kernelspec": {
   "display_name": "Python 3",
   "language": "python",
   "name": "python3"
  },
  "language_info": {
   "codemirror_mode": {
    "name": "ipython",
    "version": 3
   },
   "file_extension": ".py",
   "mimetype": "text/x-python",
   "name": "python",
   "nbconvert_exporter": "python",
   "pygments_lexer": "ipython3",
   "version": "3.9.12"
  },
  "orig_nbformat": 4
 },
 "nbformat": 4,
 "nbformat_minor": 2
}
